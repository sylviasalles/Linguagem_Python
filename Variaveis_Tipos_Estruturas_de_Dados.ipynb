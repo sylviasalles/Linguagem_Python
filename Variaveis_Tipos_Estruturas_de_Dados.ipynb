{
 "cells": [
  {
   "cell_type": "markdown",
   "id": "d2d19731-0704-44a1-a8d5-82e1e3c57c89",
   "metadata": {},
   "source": [
    "### Conceitos de Variáveis, Tipos e Estruturas de Dados \n",
    "Conceitos obtidos atráves de cursos"
   ]
  },
  {
   "cell_type": "markdown",
   "id": "e9d7080c-5470-4007-a302-ea3d85a32bba",
   "metadata": {},
   "source": [
    "### Operações Aritméticas"
   ]
  },
  {
   "cell_type": "code",
   "execution_count": 15,
   "id": "7d34aba3-e009-4ddd-bfac-9e43d340f3d3",
   "metadata": {},
   "outputs": [],
   "source": [
    "# +: adição\n",
    "# -: subtração\n",
    "# *: multiplicação\n",
    "# /: divisão\n",
    "# //: divisão inteira\n",
    "# **: potência\n",
    "# %: resto da divisão"
   ]
  },
  {
   "cell_type": "code",
   "execution_count": 38,
   "id": "02573475-908e-45b0-8ccb-5eaea8bfda84",
   "metadata": {},
   "outputs": [
    {
     "data": {
      "text/plain": [
       "8"
      ]
     },
     "execution_count": 38,
     "metadata": {},
     "output_type": "execute_result"
    }
   ],
   "source": [
    "# Soma\n",
    "4 + 4"
   ]
  },
  {
   "cell_type": "code",
   "execution_count": 39,
   "id": "6181420c-0fc7-4b09-8bc8-18a8777a634f",
   "metadata": {},
   "outputs": [
    {
     "data": {
      "text/plain": [
       "1"
      ]
     },
     "execution_count": 39,
     "metadata": {},
     "output_type": "execute_result"
    }
   ],
   "source": [
    "# Subtração\n",
    "4 - 3"
   ]
  },
  {
   "cell_type": "code",
   "execution_count": 40,
   "id": "4cb26e31-da43-4bab-8a36-5fa11209eca0",
   "metadata": {},
   "outputs": [
    {
     "data": {
      "text/plain": [
       "9"
      ]
     },
     "execution_count": 40,
     "metadata": {},
     "output_type": "execute_result"
    }
   ],
   "source": [
    "# Multiplicação\n",
    "3 * 3"
   ]
  },
  {
   "cell_type": "code",
   "execution_count": 41,
   "id": "adadc780-8bd8-4fd7-8872-e547d06cc2a1",
   "metadata": {},
   "outputs": [
    {
     "data": {
      "text/plain": [
       "1.5"
      ]
     },
     "execution_count": 41,
     "metadata": {},
     "output_type": "execute_result"
    }
   ],
   "source": [
    "# Divisão\n",
    "3 / 2"
   ]
  },
  {
   "cell_type": "code",
   "execution_count": 42,
   "id": "9548d59f-cd9b-4051-8957-8c6aaf1226c0",
   "metadata": {},
   "outputs": [
    {
     "data": {
      "text/plain": [
       "16"
      ]
     },
     "execution_count": 42,
     "metadata": {},
     "output_type": "execute_result"
    }
   ],
   "source": [
    "# Potência\n",
    "4 ** 2"
   ]
  },
  {
   "cell_type": "code",
   "execution_count": 43,
   "id": "7582dd65-6078-48f2-a8b5-606556ddfdfe",
   "metadata": {},
   "outputs": [
    {
     "data": {
      "text/plain": [
       "1"
      ]
     },
     "execution_count": 43,
     "metadata": {},
     "output_type": "execute_result"
    }
   ],
   "source": [
    "# Módulo\n",
    "10 % 3 "
   ]
  },
  {
   "cell_type": "markdown",
   "id": "aa559f47-c577-48ed-a8a7-610ac09e2861",
   "metadata": {},
   "source": [
    "### Função Type"
   ]
  },
  {
   "cell_type": "code",
   "execution_count": 16,
   "id": "e0e202c7-d0a5-4314-bb7c-9215933e59d3",
   "metadata": {},
   "outputs": [
    {
     "data": {
      "text/plain": [
       "int"
      ]
     },
     "execution_count": 16,
     "metadata": {},
     "output_type": "execute_result"
    }
   ],
   "source": [
    "# Quando quiser saber qu tipo é o dado\n",
    "type(5)"
   ]
  },
  {
   "cell_type": "code",
   "execution_count": 17,
   "id": "47f5e341-d484-48e4-8e37-84b165962df1",
   "metadata": {},
   "outputs": [
    {
     "data": {
      "text/plain": [
       "float"
      ]
     },
     "execution_count": 17,
     "metadata": {},
     "output_type": "execute_result"
    }
   ],
   "source": [
    "type(5.0)"
   ]
  },
  {
   "cell_type": "code",
   "execution_count": 44,
   "id": "f7994543-3e11-4c14-a489-130e653d681e",
   "metadata": {},
   "outputs": [
    {
     "data": {
      "text/plain": [
       "str"
      ]
     },
     "execution_count": 44,
     "metadata": {},
     "output_type": "execute_result"
    }
   ],
   "source": [
    "a = 'Estudos'\n",
    "type(a)"
   ]
  },
  {
   "cell_type": "markdown",
   "id": "b9863666-1ce9-4627-8c35-69e6bf7494ed",
   "metadata": {},
   "source": [
    "### Operações com Números Float"
   ]
  },
  {
   "cell_type": "code",
   "execution_count": 26,
   "id": "ddbe6896-effc-4950-a904-df52fc40e90c",
   "metadata": {},
   "outputs": [
    {
     "data": {
      "text/plain": [
       "9.5"
      ]
     },
     "execution_count": 26,
     "metadata": {},
     "output_type": "execute_result"
    }
   ],
   "source": [
    "3.1 + 6.4"
   ]
  },
  {
   "cell_type": "code",
   "execution_count": 27,
   "id": "1a4b4ba1-3475-4e15-9bf3-41b96cc94bcc",
   "metadata": {},
   "outputs": [
    {
     "data": {
      "text/plain": [
       "8.0"
      ]
     },
     "execution_count": 27,
     "metadata": {},
     "output_type": "execute_result"
    }
   ],
   "source": [
    "4 + 4.0"
   ]
  },
  {
   "cell_type": "code",
   "execution_count": 28,
   "id": "d3050848-c457-4177-a7bb-50380bf8bae3",
   "metadata": {},
   "outputs": [
    {
     "data": {
      "text/plain": [
       "8"
      ]
     },
     "execution_count": 28,
     "metadata": {},
     "output_type": "execute_result"
    }
   ],
   "source": [
    "4 + 4"
   ]
  },
  {
   "cell_type": "code",
   "execution_count": 29,
   "id": "db1e97a4-9638-410c-9970-c5d12f7d66ed",
   "metadata": {},
   "outputs": [
    {
     "data": {
      "text/plain": [
       "2.0"
      ]
     },
     "execution_count": 29,
     "metadata": {},
     "output_type": "execute_result"
    }
   ],
   "source": [
    "# Resultado é um número float\n",
    "4 / 2"
   ]
  },
  {
   "cell_type": "code",
   "execution_count": 30,
   "id": "78ed5933-e2cd-44b9-8e9b-4c3d46bc38e3",
   "metadata": {},
   "outputs": [
    {
     "data": {
      "text/plain": [
       "2"
      ]
     },
     "execution_count": 30,
     "metadata": {},
     "output_type": "execute_result"
    }
   ],
   "source": [
    "# Resultado é um número inteiro\n",
    "4 // 2"
   ]
  },
  {
   "cell_type": "code",
   "execution_count": 31,
   "id": "72f01a51-4c12-4c51-9d1b-5639cd8d3a86",
   "metadata": {},
   "outputs": [
    {
     "data": {
      "text/plain": [
       "1.3333333333333333"
      ]
     },
     "execution_count": 31,
     "metadata": {},
     "output_type": "execute_result"
    }
   ],
   "source": [
    "4 / 3.0"
   ]
  },
  {
   "cell_type": "code",
   "execution_count": 32,
   "id": "b93cab91-7897-439a-b3ae-5465e91352d6",
   "metadata": {},
   "outputs": [
    {
     "data": {
      "text/plain": [
       "1.0"
      ]
     },
     "execution_count": 32,
     "metadata": {},
     "output_type": "execute_result"
    }
   ],
   "source": [
    "4 // 3.0"
   ]
  },
  {
   "cell_type": "markdown",
   "id": "8ff06876-f92f-4582-8ea1-9eeebb756a06",
   "metadata": {},
   "source": [
    "### Conversão"
   ]
  },
  {
   "cell_type": "code",
   "execution_count": 33,
   "id": "5dc96cfc-65b4-4ce4-8508-6ffcfa99c850",
   "metadata": {},
   "outputs": [
    {
     "data": {
      "text/plain": [
       "9.0"
      ]
     },
     "execution_count": 33,
     "metadata": {},
     "output_type": "execute_result"
    }
   ],
   "source": [
    "float(9)"
   ]
  },
  {
   "cell_type": "code",
   "execution_count": 34,
   "id": "8742dc06-79f6-4027-a15d-d5369e053a6c",
   "metadata": {},
   "outputs": [
    {
     "data": {
      "text/plain": [
       "6"
      ]
     },
     "execution_count": 34,
     "metadata": {},
     "output_type": "execute_result"
    }
   ],
   "source": [
    "int(6.0)"
   ]
  },
  {
   "cell_type": "code",
   "execution_count": 35,
   "id": "96e2947b-b4c9-46da-aef3-75e315350489",
   "metadata": {},
   "outputs": [
    {
     "data": {
      "text/plain": [
       "6"
      ]
     },
     "execution_count": 35,
     "metadata": {},
     "output_type": "execute_result"
    }
   ],
   "source": [
    "int(6.5)"
   ]
  },
  {
   "cell_type": "code",
   "execution_count": 36,
   "id": "770fc7a0-c7e7-413e-ab7b-dd8edd0daa80",
   "metadata": {},
   "outputs": [
    {
     "data": {
      "text/plain": [
       "6"
      ]
     },
     "execution_count": 36,
     "metadata": {},
     "output_type": "execute_result"
    }
   ],
   "source": [
    "int(6.6)"
   ]
  },
  {
   "cell_type": "markdown",
   "id": "02298327-2814-4ffc-b3cd-d3fb2bd1abfe",
   "metadata": {},
   "source": [
    "### Funções abs, round e pow"
   ]
  },
  {
   "cell_type": "code",
   "execution_count": 45,
   "id": "08625383-680c-4623-83e1-876c3f6238b7",
   "metadata": {},
   "outputs": [
    {
     "data": {
      "text/plain": [
       "8"
      ]
     },
     "execution_count": 45,
     "metadata": {},
     "output_type": "execute_result"
    }
   ],
   "source": [
    "# Retorna o valor absoluto\n",
    "abs(-8)"
   ]
  },
  {
   "cell_type": "code",
   "execution_count": 46,
   "id": "fcef4836-310c-4184-adb2-3f159151d868",
   "metadata": {},
   "outputs": [
    {
     "data": {
      "text/plain": [
       "8"
      ]
     },
     "execution_count": 46,
     "metadata": {},
     "output_type": "execute_result"
    }
   ],
   "source": [
    "# Retorna o valor absoluto\n",
    "abs(8)"
   ]
  },
  {
   "cell_type": "code",
   "execution_count": 18,
   "id": "4a6336c6-926e-4dc0-a047-6460d48a360e",
   "metadata": {},
   "outputs": [
    {
     "data": {
      "text/plain": [
       "3.14"
      ]
     },
     "execution_count": 18,
     "metadata": {},
     "output_type": "execute_result"
    }
   ],
   "source": [
    "# Retorna o valor com duas casas decimais\n",
    "# round - retorna\n",
    "round(3.14151922, 2)"
   ]
  },
  {
   "cell_type": "code",
   "execution_count": 49,
   "id": "ef002f6a-8082-4fc6-8331-5bfc883998ae",
   "metadata": {},
   "outputs": [
    {
     "data": {
      "text/plain": [
       "125"
      ]
     },
     "execution_count": 49,
     "metadata": {},
     "output_type": "execute_result"
    }
   ],
   "source": [
    "# Potência\n",
    "pow(5,3)"
   ]
  },
  {
   "cell_type": "markdown",
   "id": "db815890-3812-4fbe-aefd-72cee8a728f5",
   "metadata": {},
   "source": [
    "### Variáveis"
   ]
  },
  {
   "cell_type": "markdown",
   "id": "e1494984-5dff-401a-94ef-fe55a2cdcfcc",
   "metadata": {},
   "source": [
    "> Não se pode usar palavras reservadas como nome de variável\n",
    "\n",
    "- False\n",
    "- class\n",
    "- finally\n",
    "- is\n",
    "- return\n",
    "- None\n",
    "- continue\n",
    "- for\n",
    "- lambda\n",
    "- try\n",
    "- True\n",
    "- def\n",
    "- from\n",
    "- nonlocal\n",
    "- while\n",
    "- and\n",
    "- del\n",
    "- global\n",
    "- not\n",
    "- with\n",
    "- as\n",
    "- elif\n",
    "- if\n",
    "- or\n",
    "- yield\n",
    "- assert\n",
    "- else\n",
    "- import\n",
    "- pass\n",
    "- break\n",
    "- except\n",
    "- in\n",
    "- raise"
   ]
  },
  {
   "cell_type": "markdown",
   "id": "41060a6b-b4d1-4a2e-9196-5217784354c6",
   "metadata": {},
   "source": [
    "### Funções Built-in de Strings"
   ]
  },
  {
   "cell_type": "code",
   "execution_count": 25,
   "id": "ac6d5d40-2368-40e5-98b7-6b5a1ac4f99d",
   "metadata": {},
   "outputs": [
    {
     "name": "stdout",
     "output_type": "stream",
     "text": [
      "Estudos em Python\n"
     ]
    }
   ],
   "source": [
    "# Atribuindo uma string\n",
    "s = \"Estudos em Python\"\n",
    "print(e)"
   ]
  },
  {
   "cell_type": "code",
   "execution_count": 26,
   "id": "e6179ca8-c216-4535-b957-85110ac271d6",
   "metadata": {
    "scrolled": true
   },
   "outputs": [
    {
     "data": {
      "text/plain": [
       "'ESTUDOS EM PYTHON'"
      ]
     },
     "execution_count": 26,
     "metadata": {},
     "output_type": "execute_result"
    }
   ],
   "source": [
    "# Upper Case - convrte tudo para maiusculo\n",
    "s.upper()"
   ]
  },
  {
   "cell_type": "code",
   "execution_count": 27,
   "id": "2611009d-caa4-49bc-9670-215d4d1480f4",
   "metadata": {},
   "outputs": [
    {
     "data": {
      "text/plain": [
       "'estudos em python'"
      ]
     },
     "execution_count": 27,
     "metadata": {},
     "output_type": "execute_result"
    }
   ],
   "source": [
    "# Lower case - converte tudo para minisculo\n",
    "s.lower()"
   ]
  },
  {
   "cell_type": "code",
   "execution_count": 55,
   "id": "312605a6-6bd7-4307-9b23-d3a4d84ed4e2",
   "metadata": {},
   "outputs": [
    {
     "data": {
      "text/plain": [
       "['Estudos', 'em', 'Python']"
      ]
     },
     "execution_count": 55,
     "metadata": {},
     "output_type": "execute_result"
    }
   ],
   "source": [
    "# Dividir uma string por espaços em branco (padrão)\n",
    "s.split()"
   ]
  },
  {
   "cell_type": "code",
   "execution_count": 56,
   "id": "c26b00e3-9f17-4f42-8f5f-7237ccd392cf",
   "metadata": {},
   "outputs": [
    {
     "data": {
      "text/plain": [
       "['Estudos ', 'm Python']"
      ]
     },
     "execution_count": 56,
     "metadata": {},
     "output_type": "execute_result"
    }
   ],
   "source": [
    "# Dividir uma string por um elemento específico\n",
    "s.split('e')"
   ]
  },
  {
   "cell_type": "markdown",
   "id": "27ccf3c8-7090-49fb-a31f-8c60bdce2c9a",
   "metadata": {},
   "source": [
    "### Funções String"
   ]
  },
  {
   "cell_type": "code",
   "execution_count": 29,
   "id": "edbe7890-2071-4925-8ef2-5fa27207156f",
   "metadata": {},
   "outputs": [
    {
     "name": "stdout",
     "output_type": "stream",
     "text": [
      "seja bem vindo ao universo da Linguagem Python!\n"
     ]
    }
   ],
   "source": [
    "c = 'seja bem vindo ao universo da Linguagem Python!'\n",
    "print(c)"
   ]
  },
  {
   "cell_type": "code",
   "execution_count": 30,
   "id": "cd90dced-9e43-4902-abce-b3f130dd4108",
   "metadata": {},
   "outputs": [
    {
     "data": {
      "text/plain": [
       "'Seja bem vindo ao universo da linguagem python!'"
      ]
     },
     "execution_count": 30,
     "metadata": {},
     "output_type": "execute_result"
    }
   ],
   "source": [
    "# Converte a primeira letra para maiusculo\n",
    "c.capitalize()"
   ]
  },
  {
   "cell_type": "code",
   "execution_count": 31,
   "id": "2d52edda-0823-4832-a009-4dd502ba84d0",
   "metadata": {},
   "outputs": [
    {
     "data": {
      "text/plain": [
       "4"
      ]
     },
     "execution_count": 31,
     "metadata": {},
     "output_type": "execute_result"
    }
   ],
   "source": [
    "# Conta quantas vezes tem uma letra especifica\n",
    "c.count('e')"
   ]
  },
  {
   "cell_type": "code",
   "execution_count": 32,
   "id": "378ad22a-f3f8-4217-9ab3-c0b2b1339290",
   "metadata": {},
   "outputs": [
    {
     "data": {
      "text/plain": [
       "False"
      ]
     },
     "execution_count": 32,
     "metadata": {},
     "output_type": "execute_result"
    }
   ],
   "source": [
    "# Pergunta se a string é toda de numeros\n",
    "c.isalnum()"
   ]
  },
  {
   "cell_type": "code",
   "execution_count": 33,
   "id": "579a1014-ad03-4c2f-84bf-d478f3ec8dfa",
   "metadata": {},
   "outputs": [
    {
     "data": {
      "text/plain": [
       "False"
      ]
     },
     "execution_count": 33,
     "metadata": {},
     "output_type": "execute_result"
    }
   ],
   "source": [
    "# Pergunta se a a string está toda em minisculo\n",
    "c.islower()"
   ]
  },
  {
   "cell_type": "code",
   "execution_count": 34,
   "id": "e4dffa18-7b4b-4742-8d49-70bac1979d1e",
   "metadata": {},
   "outputs": [
    {
     "data": {
      "text/plain": [
       "False"
      ]
     },
     "execution_count": 34,
     "metadata": {},
     "output_type": "execute_result"
    }
   ],
   "source": [
    "# Pergunta se a string é toda espaço\n",
    "c.isspace()"
   ]
  },
  {
   "cell_type": "code",
   "execution_count": 35,
   "id": "b424cd63-301e-483d-b6ff-b681a944df2b",
   "metadata": {},
   "outputs": [
    {
     "data": {
      "text/plain": [
       "False"
      ]
     },
     "execution_count": 35,
     "metadata": {},
     "output_type": "execute_result"
    }
   ],
   "source": [
    "# Pergunta se a string termina com uma letra especifica\n",
    "c.endswith('o')"
   ]
  },
  {
   "cell_type": "markdown",
   "id": "3d27024f-5635-4a0d-81fb-56a332174868",
   "metadata": {},
   "source": [
    "### Listas"
   ]
  },
  {
   "cell_type": "code",
   "execution_count": 76,
   "id": "d0e6a882-f313-4bc9-8beb-9cfe73164a2c",
   "metadata": {},
   "outputs": [
    {
     "name": "stdout",
     "output_type": "stream",
     "text": [
      "['arroz, frango, tomate, leite']\n"
     ]
    }
   ],
   "source": [
    "# Criando uma lista\n",
    "lista = [\"arroz, frango, tomate, leite\"]\n",
    "print(lista)"
   ]
  },
  {
   "cell_type": "code",
   "execution_count": 75,
   "id": "274035d3-e7fe-44e8-9427-06abe386d86f",
   "metadata": {},
   "outputs": [
    {
     "data": {
      "text/plain": [
       "list"
      ]
     },
     "execution_count": 75,
     "metadata": {},
     "output_type": "execute_result"
    }
   ],
   "source": [
    "type(lista)"
   ]
  },
  {
   "cell_type": "code",
   "execution_count": 37,
   "id": "14242f77-a88e-4bbb-bfaa-75e872383f30",
   "metadata": {},
   "outputs": [
    {
     "name": "stdout",
     "output_type": "stream",
     "text": [
      "['arroz', 'frango', 'tomate', 'leite']\n"
     ]
    }
   ],
   "source": [
    "# Criando outra lista\n",
    "lista_2 = [\"arroz\", \"frango\", \"tomate\", \"leite\"]\n",
    "print(lista_2)"
   ]
  },
  {
   "cell_type": "markdown",
   "id": "8b328abb-7c6d-4de0-a638-9ca6a0151d4b",
   "metadata": {},
   "source": [
    "### Atualizando Um Item da Lista"
   ]
  },
  {
   "cell_type": "code",
   "execution_count": 80,
   "id": "89d1e960-eb91-4f99-9f75-b7c62d8f777c",
   "metadata": {},
   "outputs": [
    {
     "data": {
      "text/plain": [
       "'tomate'"
      ]
     },
     "execution_count": 80,
     "metadata": {},
     "output_type": "execute_result"
    }
   ],
   "source": [
    "# Imprimindo um item da lista\n",
    "lista_2[2]"
   ]
  },
  {
   "cell_type": "code",
   "execution_count": 81,
   "id": "676700be-3e93-4917-a1a2-92c167de2844",
   "metadata": {},
   "outputs": [],
   "source": [
    "# Atualizando um item da lista\n",
    "lista_2[2] = \"chocolate\""
   ]
  },
  {
   "cell_type": "code",
   "execution_count": 82,
   "id": "3db95b4c-a6bd-4feb-953c-c613bfd99b40",
   "metadata": {},
   "outputs": [
    {
     "data": {
      "text/plain": [
       "['arroz', 'frango', 'chocolate', 'leite']"
      ]
     },
     "execution_count": 82,
     "metadata": {},
     "output_type": "execute_result"
    }
   ],
   "source": [
    "# Imprimindo lista alterada\n",
    "lista_2"
   ]
  },
  {
   "cell_type": "markdown",
   "id": "591513b7-28fa-4bd1-b277-3371e8fc96c9",
   "metadata": {},
   "source": [
    "### Deletando Um Item da Lista"
   ]
  },
  {
   "cell_type": "code",
   "execution_count": 38,
   "id": "abae5aac-36ba-4c2d-bb9d-3631d20768e9",
   "metadata": {},
   "outputs": [],
   "source": [
    "# Deleta um número especifico da lista\n",
    "del lista_2[1]  "
   ]
  },
  {
   "cell_type": "code",
   "execution_count": 39,
   "id": "4457b87f-e382-43e4-8173-1733175a3ddf",
   "metadata": {},
   "outputs": [
    {
     "data": {
      "text/plain": [
       "['arroz', 'tomate', 'leite']"
      ]
     },
     "execution_count": 39,
     "metadata": {},
     "output_type": "execute_result"
    }
   ],
   "source": [
    "# Imprimindo o item com a lista alterada\n",
    "lista_2"
   ]
  },
  {
   "cell_type": "markdown",
   "id": "49100748-5e7c-4f46-92ca-b955cab29bf4",
   "metadata": {},
   "source": [
    "### Operações com Listas"
   ]
  },
  {
   "cell_type": "code",
   "execution_count": 87,
   "id": "826df48f-427f-40a8-86bf-6c40513f4f55",
   "metadata": {},
   "outputs": [
    {
     "name": "stdout",
     "output_type": "stream",
     "text": [
      "[[1, 2, 3], [10, 15, 14], [10.1, 8.7, 2.3]]\n"
     ]
    }
   ],
   "source": [
    "# Criando uma lista aninhada (lista de listas)\n",
    "listas = [[1,2,3], [10,15,14], [10.1,8.7,2.3]]\n",
    "print(listas)"
   ]
  },
  {
   "cell_type": "code",
   "execution_count": 88,
   "id": "5ade2b01-5232-498f-85a4-9d1d2f4aa6ec",
   "metadata": {},
   "outputs": [
    {
     "name": "stdout",
     "output_type": "stream",
     "text": [
      "1\n"
     ]
    }
   ],
   "source": [
    "# Atribuindo à variável a o primeiro valor da primeira lista\n",
    "a = listas[0][0]\n",
    "print(a)"
   ]
  },
  {
   "cell_type": "markdown",
   "id": "f869fb3f-06b9-4ab7-97f7-58fc77c9de0c",
   "metadata": {},
   "source": [
    "### Concatenando Listas"
   ]
  },
  {
   "cell_type": "code",
   "execution_count": 89,
   "id": "748d5d0d-5e5e-4fe2-b31c-57948f56972f",
   "metadata": {},
   "outputs": [
    {
     "name": "stdout",
     "output_type": "stream",
     "text": [
      "[34, 32, 56]\n"
     ]
    }
   ],
   "source": [
    "lista_s1 = [34, 32, 56]\n",
    "print(lista_s1)"
   ]
  },
  {
   "cell_type": "code",
   "execution_count": 90,
   "id": "bf424797-cd98-445f-9f4a-2d13f0778a08",
   "metadata": {},
   "outputs": [
    {
     "name": "stdout",
     "output_type": "stream",
     "text": [
      "[21, 90, 51]\n"
     ]
    }
   ],
   "source": [
    "lista_s2 = [21, 90, 51]\n",
    "print(lista_s2)"
   ]
  },
  {
   "cell_type": "code",
   "execution_count": 91,
   "id": "cfd6252b-b7fc-4e5d-b971-9b8cb140041c",
   "metadata": {},
   "outputs": [
    {
     "name": "stdout",
     "output_type": "stream",
     "text": [
      "[34, 32, 56, 21, 90, 51]\n"
     ]
    }
   ],
   "source": [
    "# Concatenando listas\n",
    "lista_total = lista_s1 + lista_s2\n",
    "print(lista_total)"
   ]
  },
  {
   "cell_type": "markdown",
   "id": "f64b542c-21f7-49ea-a8ae-bdec187936d0",
   "metadata": {},
   "source": [
    "## Operador in"
   ]
  },
  {
   "cell_type": "code",
   "execution_count": 92,
   "id": "4dfee55f-3029-44fe-9dc2-bd6dbfabfe33",
   "metadata": {},
   "outputs": [
    {
     "name": "stdout",
     "output_type": "stream",
     "text": [
      "False\n",
      "True\n"
     ]
    }
   ],
   "source": [
    "# Criando uma lista\n",
    "lista_teste_op = [100, 2, -5, 3.4]\n",
    "\n",
    "# Verificando se o valor 10 pertence a lista\n",
    "print(10 in lista_teste_op)\n",
    "\n",
    "# Verificando se o valor 100 pertence a lista\n",
    "print(100 in lista_teste_op)"
   ]
  },
  {
   "cell_type": "markdown",
   "id": "ec02d6fe-d457-4d56-8079-48bda7d7644a",
   "metadata": {},
   "source": [
    "## Funções Built-in"
   ]
  },
  {
   "cell_type": "code",
   "execution_count": 97,
   "id": "6f1167f3-3a56-4ed6-8666-c0d1135cda4b",
   "metadata": {},
   "outputs": [
    {
     "name": "stdout",
     "output_type": "stream",
     "text": [
      "[10, 20, 50, -3.4]\n"
     ]
    }
   ],
   "source": [
    "# Criando uma lista\n",
    "lista_numeros = [10, 20, 50, -3.4]\n",
    "print(lista_numeros)"
   ]
  },
  {
   "cell_type": "code",
   "execution_count": 98,
   "id": "d58be584-09b6-4510-9c29-1dec7dc51fb1",
   "metadata": {},
   "outputs": [
    {
     "data": {
      "text/plain": [
       "4"
      ]
     },
     "execution_count": 98,
     "metadata": {},
     "output_type": "execute_result"
    }
   ],
   "source": [
    "# Função len() retorna o comprimento da lista\n",
    "len(lista_numeros)"
   ]
  },
  {
   "cell_type": "code",
   "execution_count": 99,
   "id": "65f268cd-f701-404d-a886-71bec00e21a4",
   "metadata": {},
   "outputs": [
    {
     "data": {
      "text/plain": [
       "50"
      ]
     },
     "execution_count": 99,
     "metadata": {},
     "output_type": "execute_result"
    }
   ],
   "source": [
    "# Função max() retorna o valor máximo da lista\n",
    "max(lista_numeros)"
   ]
  },
  {
   "cell_type": "code",
   "execution_count": 100,
   "id": "3a2e54f0-7c65-41ff-8bbd-d065103b8771",
   "metadata": {},
   "outputs": [
    {
     "data": {
      "text/plain": [
       "-3.4"
      ]
     },
     "execution_count": 100,
     "metadata": {},
     "output_type": "execute_result"
    }
   ],
   "source": [
    "# Função min() retorna o valor mínimo da lista\n",
    "min(lista_numeros)"
   ]
  },
  {
   "cell_type": "code",
   "execution_count": 2,
   "id": "d3998df5-335a-4628-b174-17e5d173e2f2",
   "metadata": {},
   "outputs": [
    {
     "name": "stdout",
     "output_type": "stream",
     "text": [
      "['Analista de Dados', 'Cientista de Dados', 'Engenheiro de Dados']\n"
     ]
    }
   ],
   "source": [
    "# Criando uma lista\n",
    "lista_formacoes = [\"Analista de Dados\", \"Cientista de Dados\", \"Engenheiro de Dados\"]\n",
    "print(lista_formacoes)"
   ]
  },
  {
   "cell_type": "code",
   "execution_count": 3,
   "id": "b07a1672-5212-4740-8a45-a8ee9f4387c8",
   "metadata": {},
   "outputs": [
    {
     "name": "stdout",
     "output_type": "stream",
     "text": [
      "['Analista de Dados', 'Cientista de Dados', 'Engenheiro de Dados', 'Engenheiro de IA']\n"
     ]
    }
   ],
   "source": [
    "# Adicionando um item à lista\n",
    "lista_formacoes.append(\"Engenheiro de IA\")\n",
    "print(lista_formacoes)"
   ]
  },
  {
   "cell_type": "code",
   "execution_count": 4,
   "id": "d5b70d58-318e-4ca7-ae63-b01798fa655c",
   "metadata": {},
   "outputs": [
    {
     "data": {
      "text/plain": [
       "1"
      ]
     },
     "execution_count": 4,
     "metadata": {},
     "output_type": "execute_result"
    }
   ],
   "source": [
    "lista_formacoes.count(\"Engenheiro de IA\")"
   ]
  },
  {
   "cell_type": "markdown",
   "id": "d5928769-af7a-4bbe-80ae-279a286ca5b0",
   "metadata": {},
   "source": [
    "### Estruturas de Dados - Dicionários"
   ]
  },
  {
   "cell_type": "code",
   "execution_count": 9,
   "id": "fc32ae34-251d-4033-a1cd-793361aea03c",
   "metadata": {},
   "outputs": [
    {
     "name": "stdout",
     "output_type": "stream",
     "text": [
      "['Java', 24, 'C', 22, 'C++', 26, 'Python', 25]\n"
     ]
    }
   ],
   "source": [
    "# Isso é uma lista\n",
    "dados = [\"Java\", 24, \"C\", 22, \"C++\", 26, \"Python\", 25]   \n",
    "print(dados)"
   ]
  },
  {
   "cell_type": "code",
   "execution_count": 6,
   "id": "fd11bd18-4533-4c1b-90d0-32b1f8354ba6",
   "metadata": {},
   "outputs": [
    {
     "data": {
      "text/plain": [
       "list"
      ]
     },
     "execution_count": 6,
     "metadata": {},
     "output_type": "execute_result"
    }
   ],
   "source": [
    "type(dados)"
   ]
  },
  {
   "cell_type": "code",
   "execution_count": 40,
   "id": "dd65dca0-1c2b-4d44-8099-2ebcd900047d",
   "metadata": {},
   "outputs": [
    {
     "name": "stdout",
     "output_type": "stream",
     "text": [
      "{'Java': 24, 'C': 22, 'C++': 26, 'Python': 25}\n"
     ]
    }
   ],
   "source": [
    "# Isso é um dicionário - associação de nome e idade\n",
    "dados_dict = {\"Java\": 24, \"C\": 22, \"C++\": 26, \"Python\": 25}\n",
    "print(dados_dict)"
   ]
  },
  {
   "cell_type": "code",
   "execution_count": 11,
   "id": "dc8e6038-76d8-43a7-bc38-802e14822fec",
   "metadata": {},
   "outputs": [
    {
     "data": {
      "text/plain": [
       "dict"
      ]
     },
     "execution_count": 11,
     "metadata": {},
     "output_type": "execute_result"
    }
   ],
   "source": [
    "type(dados_dict)"
   ]
  },
  {
   "cell_type": "code",
   "execution_count": 41,
   "id": "9dbbb138-61f9-4043-8889-22f5f5e9e8c9",
   "metadata": {},
   "outputs": [
    {
     "name": "stdout",
     "output_type": "stream",
     "text": [
      "{}\n"
     ]
    }
   ],
   "source": [
    "# Limpa os dados de um dicionário\n",
    "dados_dict.clear()\n",
    "print(dados_dict)"
   ]
  },
  {
   "cell_type": "code",
   "execution_count": 42,
   "id": "8bb829ec-da04-4c78-b1d1-1157bb58990e",
   "metadata": {},
   "outputs": [
    {
     "ename": "NameError",
     "evalue": "name 'dados_dict' is not defined",
     "output_type": "error",
     "traceback": [
      "\u001b[1;31m---------------------------------------------------------------------------\u001b[0m",
      "\u001b[1;31mNameError\u001b[0m                                 Traceback (most recent call last)",
      "Cell \u001b[1;32mIn[42], line 3\u001b[0m\n\u001b[0;32m      1\u001b[0m \u001b[38;5;66;03m# Deleta o dicionário\u001b[39;00m\n\u001b[0;32m      2\u001b[0m \u001b[38;5;28;01mdel\u001b[39;00m dados_dict\n\u001b[1;32m----> 3\u001b[0m \u001b[38;5;28mprint\u001b[39m(\u001b[43mdados_dict\u001b[49m)\n",
      "\u001b[1;31mNameError\u001b[0m: name 'dados_dict' is not defined"
     ]
    }
   ],
   "source": [
    "# Deleta o dicionário\n",
    "del dados_dict\n",
    "print(dados_dict)"
   ]
  },
  {
   "cell_type": "code",
   "execution_count": 43,
   "id": "b50dffde-399f-4eff-b087-b2ea6ed7292b",
   "metadata": {},
   "outputs": [],
   "source": [
    "estudantes = {\"Pedro\":24, \"Ana\":22, \"Ronaldo\":26, \"Janaina\":25}"
   ]
  },
  {
   "cell_type": "code",
   "execution_count": 45,
   "id": "2ed93c16-4f01-4a98-8040-28d57204bf1b",
   "metadata": {},
   "outputs": [
    {
     "data": {
      "text/plain": [
       "4"
      ]
     },
     "execution_count": 45,
     "metadata": {},
     "output_type": "execute_result"
    }
   ],
   "source": [
    "# Quantidade de cada par no dicionário\n",
    "len(estudantes)"
   ]
  },
  {
   "cell_type": "code",
   "execution_count": 46,
   "id": "419a5928-6f1c-451c-bbb1-3212b21fc2c3",
   "metadata": {},
   "outputs": [
    {
     "data": {
      "text/plain": [
       "dict_keys(['Pedro', 'Ana', 'Ronaldo', 'Janaina'])"
      ]
     },
     "execution_count": 46,
     "metadata": {},
     "output_type": "execute_result"
    }
   ],
   "source": [
    "# Retorna somente as chaves\n",
    "estudantes.keys()"
   ]
  },
  {
   "cell_type": "code",
   "execution_count": 47,
   "id": "5b8f3fe6-67c8-4b54-bd27-6aabe056a273",
   "metadata": {},
   "outputs": [
    {
     "data": {
      "text/plain": [
       "dict_values([24, 22, 26, 25])"
      ]
     },
     "execution_count": 47,
     "metadata": {},
     "output_type": "execute_result"
    }
   ],
   "source": [
    "# Retorna somente os valores\n",
    "estudantes.values()"
   ]
  },
  {
   "cell_type": "code",
   "execution_count": 48,
   "id": "71e39f0a-8513-4518-9a75-153f5e7b40f4",
   "metadata": {},
   "outputs": [
    {
     "data": {
      "text/plain": [
       "dict_items([('Pedro', 24), ('Ana', 22), ('Ronaldo', 26), ('Janaina', 25)])"
      ]
     },
     "execution_count": 48,
     "metadata": {},
     "output_type": "execute_result"
    }
   ],
   "source": [
    "# Retorna somente os itens\n",
    "estudantes.items()"
   ]
  },
  {
   "cell_type": "code",
   "execution_count": 49,
   "id": "14eda674-0f89-42e3-960a-92518d292032",
   "metadata": {},
   "outputs": [
    {
     "name": "stdout",
     "output_type": "stream",
     "text": [
      "{'Camila': 27, 'Adriana': 28, 'Roberta': 26}\n"
     ]
    }
   ],
   "source": [
    "estudantes2 = {\"Camila\":27, \"Adriana\":28, \"Roberta\":26}\n",
    "print(estudantes2)"
   ]
  },
  {
   "cell_type": "code",
   "execution_count": 51,
   "id": "29b1bb22-861b-4700-94bf-6c784c6a7976",
   "metadata": {},
   "outputs": [
    {
     "name": "stdout",
     "output_type": "stream",
     "text": [
      "{'Pedro': 24, 'Ana': 22, 'Ronaldo': 26, 'Janaina': 25, 'Camila': 27, 'Adriana': 28, 'Roberta': 26}\n"
     ]
    }
   ],
   "source": [
    "estudantes.update(estudantes2)\n",
    "print(estudantes)"
   ]
  },
  {
   "cell_type": "markdown",
   "id": "5602e7b4-1f2f-4ee2-8e39-47bb724e5539",
   "metadata": {},
   "source": [
    "### Estruturas de dados - Tuplas"
   ]
  },
  {
   "cell_type": "code",
   "execution_count": 52,
   "id": "5b8bedf5-cfd4-4cba-a061-807585d9e4f3",
   "metadata": {},
   "outputs": [
    {
     "name": "stdout",
     "output_type": "stream",
     "text": [
      "('Java', 23, 'C++', 9.8, 'Python')\n"
     ]
    }
   ],
   "source": [
    "# Criando uma tupla\n",
    "tupla1 = (\"Java\", 23, \"C++\", 9.8, 'Python')\n",
    "print(tupla1)"
   ]
  },
  {
   "cell_type": "code",
   "execution_count": 53,
   "id": "22a7c658-1d18-4099-9075-fb0663f3e4a4",
   "metadata": {},
   "outputs": [
    {
     "ename": "AttributeError",
     "evalue": "'tuple' object has no attribute 'append'",
     "output_type": "error",
     "traceback": [
      "\u001b[1;31m---------------------------------------------------------------------------\u001b[0m",
      "\u001b[1;31mAttributeError\u001b[0m                            Traceback (most recent call last)",
      "Cell \u001b[1;32mIn[53], line 2\u001b[0m\n\u001b[0;32m      1\u001b[0m \u001b[38;5;66;03m# Tuplas não suportam append()\u001b[39;00m\n\u001b[1;32m----> 2\u001b[0m \u001b[43mtupla1\u001b[49m\u001b[38;5;241;43m.\u001b[39;49m\u001b[43mappend\u001b[49m(\u001b[38;5;124m\"\u001b[39m\u001b[38;5;124mC\u001b[39m\u001b[38;5;124m\"\u001b[39m)  \n",
      "\u001b[1;31mAttributeError\u001b[0m: 'tuple' object has no attribute 'append'"
     ]
    }
   ],
   "source": [
    "# Tuplas não suportam append()\n",
    "tupla1.append(\"C\")  "
   ]
  },
  {
   "cell_type": "code",
   "execution_count": 54,
   "id": "c4c5357f-9626-4bc1-b2ad-5c7e99d602e0",
   "metadata": {},
   "outputs": [
    {
     "ename": "TypeError",
     "evalue": "'tuple' object does not support item deletion",
     "output_type": "error",
     "traceback": [
      "\u001b[1;31m---------------------------------------------------------------------------\u001b[0m",
      "\u001b[1;31mTypeError\u001b[0m                                 Traceback (most recent call last)",
      "Cell \u001b[1;32mIn[54], line 2\u001b[0m\n\u001b[0;32m      1\u001b[0m \u001b[38;5;66;03m# Tuplas não suportam delete de um item específico\u001b[39;00m\n\u001b[1;32m----> 2\u001b[0m \u001b[38;5;28;01mdel\u001b[39;00m \u001b[43mtupla1\u001b[49m\u001b[43m[\u001b[49m\u001b[38;5;124;43m\"\u001b[39;49m\u001b[38;5;124;43mC++\u001b[39;49m\u001b[38;5;124;43m\"\u001b[39;49m\u001b[43m]\u001b[49m \n",
      "\u001b[1;31mTypeError\u001b[0m: 'tuple' object does not support item deletion"
     ]
    }
   ],
   "source": [
    "# Tuplas não suportam delete de um item específico\n",
    "del tupla1[\"C++\"] "
   ]
  },
  {
   "cell_type": "code",
   "execution_count": 55,
   "id": "4c226d41-7baa-4bbb-bf0f-ef52fe26a20c",
   "metadata": {},
   "outputs": [
    {
     "name": "stdout",
     "output_type": "stream",
     "text": [
      "Python\n"
     ]
    }
   ],
   "source": [
    "# Tuplas podem ter um único item\n",
    "tupla1 = (\"Python\")\n",
    "print(tupla1)"
   ]
  },
  {
   "cell_type": "code",
   "execution_count": 58,
   "id": "2429b36f-9e3e-473c-9c4e-74cbc257fdff",
   "metadata": {},
   "outputs": [
    {
     "name": "stdout",
     "output_type": "stream",
     "text": [
      "('Java', 23, 'C++', 9.8, 'Python')\n"
     ]
    }
   ],
   "source": [
    "tupla1 = (\"Java\", 23, \"C++\", 9.8, 'Python')\n",
    "print(tupla1)"
   ]
  },
  {
   "cell_type": "code",
   "execution_count": 59,
   "id": "5b34cec3-541f-42fb-bcbf-2fc624775daf",
   "metadata": {},
   "outputs": [
    {
     "data": {
      "text/plain": [
       "5"
      ]
     },
     "execution_count": 59,
     "metadata": {},
     "output_type": "execute_result"
    }
   ],
   "source": [
    "# Verificando o comprimento da tupla\n",
    "len(tupla1)"
   ]
  },
  {
   "cell_type": "code",
   "execution_count": 60,
   "id": "c18ce804-abc2-4a99-be99-236f25405367",
   "metadata": {},
   "outputs": [
    {
     "data": {
      "text/plain": [
       "(23, 'C++', 9.8, 'Python')"
      ]
     },
     "execution_count": 60,
     "metadata": {},
     "output_type": "execute_result"
    }
   ],
   "source": [
    "# Slicing, da mesma forma que se faz com listas\n",
    "tupla1[1:]"
   ]
  },
  {
   "cell_type": "code",
   "execution_count": 61,
   "id": "4b6c4cdb-b56c-4aa9-8a89-75b9afd2659d",
   "metadata": {},
   "outputs": [
    {
     "ename": "NameError",
     "evalue": "name 'tupla1' is not defined",
     "output_type": "error",
     "traceback": [
      "\u001b[1;31m---------------------------------------------------------------------------\u001b[0m",
      "\u001b[1;31mNameError\u001b[0m                                 Traceback (most recent call last)",
      "Cell \u001b[1;32mIn[61], line 3\u001b[0m\n\u001b[0;32m      1\u001b[0m \u001b[38;5;66;03m# Deletando a tupla\u001b[39;00m\n\u001b[0;32m      2\u001b[0m \u001b[38;5;28;01mdel\u001b[39;00m tupla1\n\u001b[1;32m----> 3\u001b[0m \u001b[38;5;28mprint\u001b[39m(\u001b[43mtupla1\u001b[49m)\n",
      "\u001b[1;31mNameError\u001b[0m: name 'tupla1' is not defined"
     ]
    }
   ],
   "source": [
    "# Deletando a tupla\n",
    "del tupla1\n",
    "print(tupla1)"
   ]
  }
 ],
 "metadata": {
  "kernelspec": {
   "display_name": "Python 3 (ipykernel)",
   "language": "python",
   "name": "python3"
  },
  "language_info": {
   "codemirror_mode": {
    "name": "ipython",
    "version": 3
   },
   "file_extension": ".py",
   "mimetype": "text/x-python",
   "name": "python",
   "nbconvert_exporter": "python",
   "pygments_lexer": "ipython3",
   "version": "3.11.4"
  }
 },
 "nbformat": 4,
 "nbformat_minor": 5
}
